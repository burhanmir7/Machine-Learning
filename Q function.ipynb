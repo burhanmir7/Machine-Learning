{
 "cells": [
  {
   "cell_type": "markdown",
   "metadata": {},
   "source": [
    "# Deep Q-Learning - Lunar Lander\n",
    "\n",
    "In this assignment, you will train an agent to land a lunar lander safely on a landing pad on the surface of the moon.\n",
    "\n",
    "\n",
    "# Outline\n",
    "- [ 1 - Import Packages <img align=\"Right\" src=\"./images/lunar_lander.gif\" width = 60% >](#1)\n",
    "- [ 2 - Hyperparameters](#2)\n",
    "- [ 3 - The Lunar Lander Environment](#3)\n",
    "  - [ 3.1 Action Space](#3.1)\n",
    "  - [ 3.2 Observation Space](#3.2)\n",
    "  - [ 3.3 Rewards](#3.3)\n",
    "  - [ 3.4 Episode Termination](#3.4)\n",
    "- [ 4 - Load the Environment](#4)\n",
    "- [ 5 - Interacting with the Gym Environment](#5)\n",
    "    - [ 5.1 Exploring the Environment's Dynamics](#5.1)\n",
    "- [ 6 - Deep Q-Learning](#6)\n",
    "  - [ 6.1 Target Network](#6.1)\n",
    "    - [ Exercise 1](#ex01)\n",
    "  - [ 6.2 Experience Replay](#6.2)\n",
    "- [ 7 - Deep Q-Learning Algorithm with Experience Replay](#7)\n",
    "  - [ Exercise 2](#ex02)\n",
    "- [ 8 - Update the Network Weights](#8)\n",
    "- [ 9 - Train the Agent](#9)\n",
    "- [ 10 - See the Trained Agent In Action](#10)\n",
    "- [ 11 - Congratulations!](#11)\n",
    "- [ 12 - References](#12)\n"
   ]
  },
  {
   "cell_type": "markdown",
   "metadata": {},
   "source": [
    "_**NOTE:** To prevent errors from the autograder, you are not allowed to edit or delete non-graded cells in this lab. Please also refrain from adding any new cells. \n",
    "**Once you have passed this assignment** and want to experiment with any of the non-graded code, you may follow the instructions at the bottom of this notebook._"
   ]
  },
  {
   "cell_type": "markdown",
   "metadata": {},
   "source": [
    "<a name=\"1\"></a>\n",
    "## 1 - Import Packages\n",
    "\n",
    "We'll make use of the following packages:\n",
    "- `numpy` is a package for scientific computing in python.\n",
    "- `deque` will be our data structure for our memory buffer.\n",
    "- `namedtuple` will be used to store the experience tuples.\n",
    "- The `gym` toolkit is a collection of environments that can be used to test reinforcement learning algorithms. We should note that in this notebook we are using `gym` version `0.24.0`.\n",
    "- `PIL.Image` and `pyvirtualdisplay` are needed to render the Lunar Lander environment.\n",
    "- We will use several modules from the `tensorflow.keras` framework for building deep learning models.\n",
    "- `utils` is a module that contains helper functions for this assignment. You do not need to modify the code in this file.\n",
    "\n",
    "Run the cell below to import all the necessary packages."
   ]
  },
  {
   "cell_type": "code",
   "execution_count": 1,
   "metadata": {
    "deletable": false,
    "editable": false,
    "id": "KYbOPKRtfQOr"
   },
   "outputs": [],
   "source": [
    "import time\n",
    "from collections import deque, namedtuple\n",
    "\n",
    "import gym\n",
    "import numpy as np\n",
    "import PIL.Image\n",
    "import tensorflow as tf\n",
    "import utils\n",
    "\n",
    "from pyvirtualdisplay import Display\n",
    "from tensorflow.keras import Sequential\n",
    "from tensorflow.keras.layers import Dense, Input\n",
    "from tensorflow.keras.losses import MSE\n",
    "from tensorflow.keras.optimizers import Adam"
   ]
  },
  {
   "cell_type": "code",
   "execution_count": 2,
   "metadata": {
    "deletable": false,
    "editable": false
   },
   "outputs": [],
   "source": [
    "# Set up a virtual display to render the Lunar Lander environment.\n",
    "Display(visible=0, size=(840, 480)).start();\n",
    "\n",
    "# Set the random seed for TensorFlow\n",
    "tf.random.set_seed(utils.SEED)"
   ]
  },
  {
   "cell_type": "markdown",
   "metadata": {},
   "source": [
    "<a name=\"2\"></a>\n",
    "## 2 - Hyperparameters\n",
    "\n",
    "Run the cell below to set the hyperparameters."
   ]
  },
  {
   "cell_type": "code",
   "execution_count": 3,
   "metadata": {
    "deletable": false,
    "editable": false
   },
   "outputs": [],
   "source": [
    "MEMORY_SIZE = 100_000     # size of memory buffer\n",
    "GAMMA = 0.995             # discount factor\n",
    "ALPHA = 1e-3              # learning rate  \n",
    "NUM_STEPS_FOR_UPDATE = 4  # perform a learning update every C time steps"
   ]
  },
  {
   "cell_type": "markdown",
   "metadata": {},
   "source": [
    "<a name=\"3\"></a>\n",
    "## 3 - The Lunar Lander Environment\n",
    "\n",
    "In this notebook we will be using [OpenAI's Gym Library](https://www.gymlibrary.dev/). The Gym library provides a wide variety of environments for reinforcement learning. To put it simply, an environment represents a problem or task to be solved. In this notebook, we will try to solve the Lunar Lander environment using reinforcement learning.\n",
    "\n",
    "The goal of the Lunar Lander environment is to land the lunar lander safely on the landing pad on the surface of the moon. The landing pad is designated by two flag poles and its center is at coordinates `(0,0)` but the lander is also allowed to land outside of the landing pad. The lander starts at the top center of the environment with a random initial force applied to its center of mass and has infinite fuel. The environment is considered solved if you get `200` points. \n",
    "\n",
    "<br>\n",
    "<br>\n",
    "<figure>\n",
    "  <img src = \"images/lunar_lander.gif\" width = 40%>\n",
    "      <figcaption style = \"text-align: center; font-style: italic\">Fig 1. Lunar Lander Environment.</figcaption>\n",
    "</figure>\n",
    "\n",
    "\n",
    "\n",
    "<a name=\"3.1\"></a>\n",
    "### 3.1 Action Space\n",
    "\n",
    "The agent has four discrete actions available:\n",
    "\n",
    "* Do nothing.\n",
    "* Fire right engine.\n",
    "* Fire main engine.\n",
    "* Fire left engine.\n",
    "\n",
    "Each action has a corresponding numerical value:\n",
    "\n",
    "```python\n",
    "Do nothing = 0\n",
    "Fire right engine = 1\n",
    "Fire main engine = 2\n",
    "Fire left engine = 3\n",
    "```\n",
    "\n",
    "<a name=\"3.2\"></a>\n",
    "### 3.2 Observation Space\n",
    "\n",
    "The agent's observation space consists of a state vector with 8 variables:\n",
    "\n",
    "* Its $(x,y)$ coordinates. The landing pad is always at coordinates $(0,0)$.\n",
    "* Its linear velocities $(\\dot x,\\dot y)$.\n",
    "* Its angle $\\theta$.\n",
    "* Its angular velocity $\\dot \\theta$.\n",
    "* Two booleans, $l$ and $r$, that represent whether each leg is in contact with the ground or not.\n",
    "\n",
    "<a name=\"3.3\"></a>\n",
    "### 3.3 Rewards\n",
    "\n",
    "After every step, a reward is granted. The total reward of an episode is the sum of the rewards for all the steps within that episode.\n",
    "\n",
    "For each step, the reward:\n",
    "- is increased/decreased the closer/further the lander is to the landing pad.\n",
    "- is increased/decreased the slower/faster the lander is moving.\n",
    "- is decreased the more the lander is tilted (angle not horizontal).\n",
    "- is increased by 10 points for each leg that is in contact with the ground.\n",
    "- is decreased by 0.03 points each frame a side engine is firing.\n",
    "- is decreased by 0.3 points each frame the main engine is firing.\n",
    "\n",
    "The episode receives an additional reward of -100 or +100 points for crashing or landing safely respectively.\n",
    "\n",
    "<a name=\"3.4\"></a>\n",
    "### 3.4 Episode Termination\n",
    "\n",
    "An episode ends (i.e the environment enters a terminal state) if:\n",
    "\n",
    "* The lunar lander crashes (i.e if the body of the lunar lander comes in contact with the surface of the moon).\n",
    "\n",
    "* The absolute value of the lander's $x$-coordinate is greater than 1 (i.e. it goes beyond the left or right border)\n",
    "\n",
    "You can check out the [Open AI Gym documentation](https://www.gymlibrary.dev/environments/box2d/lunar_lander/) for a full description of the environment. "
   ]
  },
  {
   "cell_type": "markdown",
   "metadata": {},
   "source": [
    "<a name=\"4\"></a>\n",
    "## 4 - Load the Environment\n",
    "\n",
    "We start by loading the `LunarLander-v2` environment from the `gym` library by using the `.make()` method. `LunarLander-v2` is the latest version of the Lunar Lander environment and you can read about its version history in the [Open AI Gym documentation](https://www.gymlibrary.dev/environments/box2d/lunar_lander/#version-history)."
   ]
  },
  {
   "cell_type": "code",
   "execution_count": 4,
   "metadata": {
    "deletable": false,
    "editable": false,
    "id": "ILVMYKewfR0n"
   },
   "outputs": [],
   "source": [
    "env = gym.make('LunarLander-v2')"
   ]
  },
  {
   "cell_type": "markdown",
   "metadata": {},
   "source": [
    "Once we load the environment we use the `.reset()` method to reset the environment to the initial state. The lander starts at the top center of the environment and we can render the first frame of the environment by using the `.render()` method."
   ]
  },
  {
   "cell_type": "code",
   "execution_count": 5,
   "metadata": {
    "deletable": false,
    "editable": false
   },
   "outputs": [
    {
     "data": {
      "image/png": "[encoded data removed]",
      "text/plain": [
       "<PIL.Image.Image image mode=RGB size=600x400 at 0x7F9ADDA57F10>"
      ]
     },
     "execution_count": 5,
     "metadata": {},
     "output_type": "execute_result"
    }
   ],
   "source": [
    "env.reset()\n",
    "PIL.Image.fromarray(env.render(mode='rgb_array'))"
   ]
  },
  {
   "cell_type": "markdown",
   "metadata": {},
   "source": [
    "In order to build our neural network later on we need to know the size of the state vector and the number of valid actions. We can get this information from our environment by using the `.observation_space.shape` and `action_space.n` methods, respectively."
   ]
  },
  {
   "cell_type": "code",
   "execution_count": 6,
   "metadata": {
    "deletable": false,
    "editable": false,
    "id": "x3fdqdG4CUu2"
   },
   "outputs": [
    {
     "name": "stdout",
     "output_type": "stream",
     "text": [
      "State Shape: (8,)\n",
      "Number of actions: 4\n"
     ]
    }
   ],
   "source": [
    "state_size = env.observation_space.shape\n",
    "num_actions = env.action_space.n\n",
    "\n",
    "print('State Shape:', state_size)\n",
    "print('Number of actions:', num_actions)"
   ]
  },
  {
   "cell_type": "markdown",
   "metadata": {},
   "source": [
    "<a name=\"5\"></a>\n",
    "## 5 - Interacting with the Gym Environment\n",
    "\n",
    "The Gym library implements the standard “agent-environment loop” formalism:\n",
    "\n",
    "<br>\n",
    "<center>\n",
    "<video src = \"./videos/rl_formalism.m4v\" width=\"840\" height=\"480\" controls autoplay loop poster=\"./images/rl_formalism.png\"> </video>\n",
    "<figcaption style = \"text-align:center; font-style:italic\">Fig 2. Agent-environment Loop Formalism.</figcaption>\n",
    "</center>\n",
    "<br>\n",
    "\n",
    "In the standard “agent-environment loop” formalism, an agent interacts with the environment in discrete time steps $t=0,1,2,...$. At each time step $t$, the agent uses a policy $\\pi$ to select an action $A_t$ based on its observation of the environment's state $S_t$. The agent receives a numerical reward $R_t$ and on the next time step, moves to a new state $S_{t+1}$.\n",
    "\n",
    "<a name=\"5.1\"></a>\n",
    "### 5.1 Exploring the Environment's Dynamics\n",
    "\n",
    "In Open AI's Gym environments, we use the `.step()` method to run a single time step of the environment's dynamics. In the version of `gym` that we are using the `.step()` method accepts an action and returns four values:\n",
    "\n",
    "* `observation` (**object**): an environment-specific object representing your observation of the environment. In the Lunar Lander environment this corresponds to a numpy array containing the positions and velocities of the lander as described in section [3.2 Observation Space](#3.2).\n",
    "\n",
    "\n",
    "* `reward` (**float**): amount of reward returned as a result of taking the given action. In the Lunar Lander environment this corresponds to a float of type `numpy.float64` as described in section [3.3 Rewards](#3.3).\n",
    "\n",
    "\n",
    "* `done` (**boolean**): When done is `True`, it indicates the episode has terminated and it’s time to reset the environment. \n",
    "\n",
    "\n",
    "* `info` (**dictionary**): diagnostic information useful for debugging. We won't be using this variable in this notebook but it is shown here for completeness.\n",
    "\n",
    "To begin an episode, we need to reset the environment to an initial state. We do this by using the `.reset()` method. "
   ]
  },
  {
   "cell_type": "code",
   "execution_count": 9,
   "metadata": {
    "deletable": false,
    "editable": false
   },
   "outputs": [],
   "source": [
    "# Reset the environment and get the initial state.\n",
    "current_state = env.reset()"
   ]
  },
  {
   "cell_type": "markdown",
   "metadata": {},
   "source": [
    "Once the environment is reset, the agent can start taking actions in the environment by using the `.step()` method. Note that the agent can only take one action per time step. \n",
    "\n",
    "In the cell below you can select different actions and see how the returned values change depending on the action taken. Remember that in this environment the agent has four discrete actions available and we specify them in code by using their corresponding numerical value:\n",
    "\n",
    "```python\n",
    "Do nothing = 0\n",
    "Fire right engine = 1\n",
    "Fire main engine = 2\n",
    "Fire left engine = 3\n",
    "```"
   ]
  },
  {
   "cell_type": "code",
   "execution_count": 10,
   "metadata": {
    "deletable": false
   },
   "outputs": [
    {
     "data": {
      "text/html": [
       "<style  type=\"text/css\" >\n",
       "    #T_f21251e8_e306_11ee_9163_0242ac120005 th {\n",
       "          border: 1px solid grey;\n",
       "          text-align: center;\n",
       "    }    #T_f21251e8_e306_11ee_9163_0242ac120005 tbody td {\n",
       "          border: 1px solid grey;\n",
       "          text-align: center;\n",
       "    }    #T_f21251e8_e306_11ee_9163_0242ac120005row0_col0 {\n",
       "            background-color :  grey;\n",
       "        }    #T_f21251e8_e306_11ee_9163_0242ac120005row1_col1 {\n",
       "            background-color :  grey;\n",
       "        }    #T_f21251e8_e306_11ee_9163_0242ac120005row1_col2 {\n",
       "            background-color :  grey;\n",
       "        }    #T_f21251e8_e306_11ee_9163_0242ac120005row1_col3 {\n",
       "            background-color :  grey;\n",
       "        }    #T_f21251e8_e306_11ee_9163_0242ac120005row1_col4 {\n",
       "            background-color :  grey;\n",
       "        }    #T_f21251e8_e306_11ee_9163_0242ac120005row1_col5 {\n",
       "            background-color :  grey;\n",
       "        }    #T_f21251e8_e306_11ee_9163_0242ac120005row1_col6 {\n",
       "            background-color :  grey;\n",
       "        }    #T_f21251e8_e306_11ee_9163_0242ac120005row1_col7 {\n",
       "            background-color :  grey;\n",
       "        }    #T_f21251e8_e306_11ee_9163_0242ac120005row1_col8 {\n",
       "            background-color :  grey;\n",
       "        }    #T_f21251e8_e306_11ee_9163_0242ac120005row1_col9 {\n",
       "            background-color :  grey;\n",
       "        }    #T_f21251e8_e306_11ee_9163_0242ac120005row1_col10 {\n",
       "            background-color :  grey;\n",
       "        }    #T_f21251e8_e306_11ee_9163_0242ac120005row1_col11 {\n",
       "            background-color :  grey;\n",
       "        }    #T_f21251e8_e306_11ee_9163_0242ac120005row2_col0 {\n",
       "            background-color :  grey;\n",
       "        }    #T_f21251e8_e306_11ee_9163_0242ac120005row3_col1 {\n",
       "            background-color :  grey;\n",
       "        }    #T_f21251e8_e306_11ee_9163_0242ac120005row3_col2 {\n",
       "            background-color :  grey;\n",
       "        }    #T_f21251e8_e306_11ee_9163_0242ac120005row3_col3 {\n",
       "            background-color :  grey;\n",
       "        }    #T_f21251e8_e306_11ee_9163_0242ac120005row3_col4 {\n",
       "            background-color :  grey;\n",
       "        }    #T_f21251e8_e306_11ee_9163_0242ac120005row3_col5 {\n",
       "            background-color :  grey;\n",
       "        }    #T_f21251e8_e306_11ee_9163_0242ac120005row3_col6 {\n",
       "            background-color :  grey;\n",
       "        }    #T_f21251e8_e306_11ee_9163_0242ac120005row3_col7 {\n",
       "            background-color :  grey;\n",
       "        }    #T_f21251e8_e306_11ee_9163_0242ac120005row3_col8 {\n",
       "            background-color :  grey;\n",
       "        }    #T_f21251e8_e306_11ee_9163_0242ac120005row3_col9 {\n",
       "            background-color :  grey;\n",
       "        }    #T_f21251e8_e306_11ee_9163_0242ac120005row3_col10 {\n",
       "            background-color :  grey;\n",
       "        }    #T_f21251e8_e306_11ee_9163_0242ac120005row3_col11 {\n",
       "            background-color :  grey;\n",
       "        }    #T_f21251e8_e306_11ee_9163_0242ac120005row4_col1 {\n",
       "            background-color :  grey;\n",
       "        }    #T_f21251e8_e306_11ee_9163_0242ac120005row4_col2 {\n",
       "            background-color :  grey;\n",
       "        }    #T_f21251e8_e306_11ee_9163_0242ac120005row4_col3 {\n",
       "            background-color :  grey;\n",
       "        }    #T_f21251e8_e306_11ee_9163_0242ac120005row4_col4 {\n",
       "            background-color :  grey;\n",
       "        }    #T_f21251e8_e306_11ee_9163_0242ac120005row4_col5 {\n",
       "            background-color :  grey;\n",
       "        }    #T_f21251e8_e306_11ee_9163_0242ac120005row4_col6 {\n",
       "            background-color :  grey;\n",
       "        }    #T_f21251e8_e306_11ee_9163_0242ac120005row4_col7 {\n",
       "            background-color :  grey;\n",
       "        }    #T_f21251e8_e306_11ee_9163_0242ac120005row4_col8 {\n",
       "            background-color :  grey;\n",
       "        }    #T_f21251e8_e306_11ee_9163_0242ac120005row4_col9 {\n",
       "            background-color :  grey;\n",
       "        }    #T_f21251e8_e306_11ee_9163_0242ac120005row4_col10 {\n",
       "            background-color :  grey;\n",
       "        }    #T_f21251e8_e306_11ee_9163_0242ac120005row4_col11 {\n",
       "            background-color :  grey;\n",
       "        }</style><table id=\"T_f21251e8_e306_11ee_9163_0242ac120005\" ><thead>    <tr>        <th class=\"blank level0\" ></th>        <th class=\"col_heading level0 col0\" ></th>        <th class=\"col_heading level0 col1\" colspan=8>State Vector</th>        <th class=\"col_heading level0 col9\" colspan=3>Derived from the State Vector (the closer to zero, the better)</th>    </tr>    <tr>        <th class=\"blank level1\" ></th>        <th class=\"col_heading level1 col0\" ></th>        <th class=\"col_heading level1 col1\" colspan=2>Coordinate</th>        <th class=\"col_heading level1 col3\" colspan=2>Velocity</th>        <th class=\"col_heading level1 col5\" colspan=2>Tilting</th>        <th class=\"col_heading level1 col7\" colspan=2>Ground contact</th>        <th class=\"col_heading level1 col9\" >Distance from landing pad</th>        <th class=\"col_heading level1 col10\" >Velocity</th>        <th class=\"col_heading level1 col11\" >Tilting Angle (absolute value)</th>    </tr>    <tr>        <th class=\"blank level2\" ></th>        <th class=\"col_heading level2 col0\" ></th>        <th class=\"col_heading level2 col1\" >X (Horizontal)</th>        <th class=\"col_heading level2 col2\" >Y (Vertical)</th>        <th class=\"col_heading level2 col3\" >X (Horizontal)</th>        <th class=\"col_heading level2 col4\" >Y (Vertical)</th>        <th class=\"col_heading level2 col5\" >Angle</th>        <th class=\"col_heading level2 col6\" >Angular Velocity</th>        <th class=\"col_heading level2 col7\" >Left Leg?</th>        <th class=\"col_heading level2 col8\" >Right Leg?</th>        <th class=\"col_heading level2 col9\" ></th>        <th class=\"col_heading level2 col10\" ></th>        <th class=\"col_heading level2 col11\" ></th>    </tr></thead><tbody>\n",
       "                <tr>\n",
       "                        <th id=\"T_f21251e8_e306_11ee_9163_0242ac120005level0_row0\" class=\"row_heading level0 row0\" >Current State</th>\n",
       "                        <td id=\"T_f21251e8_e306_11ee_9163_0242ac120005row0_col0\" class=\"data row0 col0\" ></td>\n",
       "                        <td id=\"T_f21251e8_e306_11ee_9163_0242ac120005row0_col1\" class=\"data row0 col1\" >0.007683</td>\n",
       "                        <td id=\"T_f21251e8_e306_11ee_9163_0242ac120005row0_col2\" class=\"data row0 col2\" >1.421385</td>\n",
       "                        <td id=\"T_f21251e8_e306_11ee_9163_0242ac120005row0_col3\" class=\"data row0 col3\" >0.778150</td>\n",
       "                        <td id=\"T_f21251e8_e306_11ee_9163_0242ac120005row0_col4\" class=\"data row0 col4\" >0.465067</td>\n",
       "                        <td id=\"T_f21251e8_e306_11ee_9163_0242ac120005row0_col5\" class=\"data row0 col5\" >-0.008895</td>\n",
       "                        <td id=\"T_f21251e8_e306_11ee_9163_0242ac120005row0_col6\" class=\"data row0 col6\" >-0.176263</td>\n",
       "                        <td id=\"T_f21251e8_e306_11ee_9163_0242ac120005row0_col7\" class=\"data row0 col7\" >False</td>\n",
       "                        <td id=\"T_f21251e8_e306_11ee_9163_0242ac120005row0_col8\" class=\"data row0 col8\" >False</td>\n",
       "                        <td id=\"T_f21251e8_e306_11ee_9163_0242ac120005row0_col9\" class=\"data row0 col9\" >1.421406</td>\n",
       "                        <td id=\"T_f21251e8_e306_11ee_9163_0242ac120005row0_col10\" class=\"data row0 col10\" >0.906534</td>\n",
       "                        <td id=\"T_f21251e8_e306_11ee_9163_0242ac120005row0_col11\" class=\"data row0 col11\" >0.008895</td>\n",
       "            </tr>\n",
       "            <tr>\n",
       "                        <th id=\"T_f21251e8_e306_11ee_9163_0242ac120005level0_row1\" class=\"row_heading level0 row1\" >Action</th>\n",
       "                        <td id=\"T_f21251e8_e306_11ee_9163_0242ac120005row1_col0\" class=\"data row1 col0\" >Do nothing</td>\n",
       "                        <td id=\"T_f21251e8_e306_11ee_9163_0242ac120005row1_col1\" class=\"data row1 col1\" ></td>\n",
       "                        <td id=\"T_f21251e8_e306_11ee_9163_0242ac120005row1_col2\" class=\"data row1 col2\" ></td>\n",
       "                        <td id=\"T_f21251e8_e306_11ee_9163_0242ac120005row1_col3\" class=\"data row1 col3\" ></td>\n",
       "                        <td id=\"T_f21251e8_e306_11ee_9163_0242ac120005row1_col4\" class=\"data row1 col4\" ></td>\n",
       "                        <td id=\"T_f21251e8_e306_11ee_9163_0242ac120005row1_col5\" class=\"data row1 col5\" ></td>\n",
       "                        <td id=\"T_f21251e8_e306_11ee_9163_0242ac120005row1_col6\" class=\"data row1 col6\" ></td>\n",
       "                        <td id=\"T_f21251e8_e306_11ee_9163_0242ac120005row1_col7\" class=\"data row1 col7\" ></td>\n",
       "                        <td id=\"T_f21251e8_e306_11ee_9163_0242ac120005row1_col8\" class=\"data row1 col8\" ></td>\n",
       "                        <td id=\"T_f21251e8_e306_11ee_9163_0242ac120005row1_col9\" class=\"data row1 col9\" ></td>\n",
       "                        <td id=\"T_f21251e8_e306_11ee_9163_0242ac120005row1_col10\" class=\"data row1 col10\" ></td>\n",
       "                        <td id=\"T_f21251e8_e306_11ee_9163_0242ac120005row1_col11\" class=\"data row1 col11\" ></td>\n",
       "            </tr>\n",
       "            <tr>\n",
       "                        <th id=\"T_f21251e8_e306_11ee_9163_0242ac120005level0_row2\" class=\"row_heading level0 row2\" >Next State</th>\n",
       "                        <td id=\"T_f21251e8_e306_11ee_9163_0242ac120005row2_col0\" class=\"data row2 col0\" ></td>\n",
       "                        <td id=\"T_f21251e8_e306_11ee_9163_0242ac120005row2_col1\" class=\"data row2 col1\" >0.015366</td>\n",
       "                        <td id=\"T_f21251e8_e306_11ee_9163_0242ac120005row2_col2\" class=\"data row2 col2\" >1.431272</td>\n",
       "                        <td id=\"T_f21251e8_e306_11ee_9163_0242ac120005row2_col3\" class=\"data row2 col3\" >0.777097</td>\n",
       "                        <td id=\"T_f21251e8_e306_11ee_9163_0242ac120005row2_col4\" class=\"data row2 col4\" >0.439344</td>\n",
       "                        <td id=\"T_f21251e8_e306_11ee_9163_0242ac120005row2_col5\" class=\"data row2 col5\" >-0.017605</td>\n",
       "                        <td id=\"T_f21251e8_e306_11ee_9163_0242ac120005row2_col6\" class=\"data row2 col6\" >-0.174209</td>\n",
       "                        <td id=\"T_f21251e8_e306_11ee_9163_0242ac120005row2_col7\" class=\"data row2 col7\" >False</td>\n",
       "                        <td id=\"T_f21251e8_e306_11ee_9163_0242ac120005row2_col8\" class=\"data row2 col8\" >False</td>\n",
       "                        <td id=\"T_f21251e8_e306_11ee_9163_0242ac120005row2_col9\" class=\"data row2 col9\" >1.431354</td>\n",
       "                        <td id=\"T_f21251e8_e306_11ee_9163_0242ac120005row2_col10\" class=\"data row2 col10\" >0.892695</td>\n",
       "                        <td id=\"T_f21251e8_e306_11ee_9163_0242ac120005row2_col11\" class=\"data row2 col11\" >0.017605</td>\n",
       "            </tr>\n",
       "            <tr>\n",
       "                        <th id=\"T_f21251e8_e306_11ee_9163_0242ac120005level0_row3\" class=\"row_heading level0 row3\" >Reward</th>\n",
       "                        <td id=\"T_f21251e8_e306_11ee_9163_0242ac120005row3_col0\" class=\"data row3 col0\" >-0.481875</td>\n",
       "                        <td id=\"T_f21251e8_e306_11ee_9163_0242ac120005row3_col1\" class=\"data row3 col1\" ></td>\n",
       "                        <td id=\"T_f21251e8_e306_11ee_9163_0242ac120005row3_col2\" class=\"data row3 col2\" ></td>\n",
       "                        <td id=\"T_f21251e8_e306_11ee_9163_0242ac120005row3_col3\" class=\"data row3 col3\" ></td>\n",
       "                        <td id=\"T_f21251e8_e306_11ee_9163_0242ac120005row3_col4\" class=\"data row3 col4\" ></td>\n",
       "                        <td id=\"T_f21251e8_e306_11ee_9163_0242ac120005row3_col5\" class=\"data row3 col5\" ></td>\n",
       "                        <td id=\"T_f21251e8_e306_11ee_9163_0242ac120005row3_col6\" class=\"data row3 col6\" ></td>\n",
       "                        <td id=\"T_f21251e8_e306_11ee_9163_0242ac120005row3_col7\" class=\"data row3 col7\" ></td>\n",
       "                        <td id=\"T_f21251e8_e306_11ee_9163_0242ac120005row3_col8\" class=\"data row3 col8\" ></td>\n",
       "                        <td id=\"T_f21251e8_e306_11ee_9163_0242ac120005row3_col9\" class=\"data row3 col9\" ></td>\n",
       "                        <td id=\"T_f21251e8_e306_11ee_9163_0242ac120005row3_col10\" class=\"data row3 col10\" ></td>\n",
       "                        <td id=\"T_f21251e8_e306_11ee_9163_0242ac120005row3_col11\" class=\"data row3 col11\" ></td>\n",
       "            </tr>\n",
       "            <tr>\n",
       "                        <th id=\"T_f21251e8_e306_11ee_9163_0242ac120005level0_row4\" class=\"row_heading level0 row4\" >Episode Terminated</th>\n",
       "                        <td id=\"T_f21251e8_e306_11ee_9163_0242ac120005row4_col0\" class=\"data row4 col0\" >False</td>\n",
       "                        <td id=\"T_f21251e8_e306_11ee_9163_0242ac120005row4_col1\" class=\"data row4 col1\" ></td>\n",
       "                        <td id=\"T_f21251e8_e306_11ee_9163_0242ac120005row4_col2\" class=\"data row4 col2\" ></td>\n",
       "                        <td id=\"T_f21251e8_e306_11ee_9163_0242ac120005row4_col3\" class=\"data row4 col3\" ></td>\n",
       "                        <td id=\"T_f21251e8_e306_11ee_9163_0242ac120005row4_col4\" class=\"data row4 col4\" ></td>\n",
       "                        <td id=\"T_f21251e8_e306_11ee_9163_0242ac120005row4_col5\" class=\"data row4 col5\" ></td>\n",
       "                        <td id=\"T_f21251e8_e306_11ee_9163_0242ac120005row4_col6\" class=\"data row4 col6\" ></td>\n",
       "                        <td id=\"T_f21251e8_e306_11ee_9163_0242ac120005row4_col7\" class=\"data row4 col7\" ></td>\n",
       "                        <td id=\"T_f21251e8_e306_11ee_9163_0242ac120005row4_col8\" class=\"data row4 col8\" ></td>\n",
       "                        <td id=\"T_f21251e8_e306_11ee_9163_0242ac120005row4_col9\" class=\"data row4 col9\" ></td>\n",
       "                        <td id=\"T_f21251e8_e306_11ee_9163_0242ac120005row4_col10\" class=\"data row4 col10\" ></td>\n",
       "                        <td id=\"T_f21251e8_e306_11ee_9163_0242ac120005row4_col11\" class=\"data row4 col11\" ></td>\n",
       "            </tr>\n",
       "    </tbody></table>"
      ],
      "text/plain": [
       "<pandas.io.formats.style.Styler at 0x7f9acc9309d0>"
      ]
     },
     "metadata": {},
     "output_type": "display_data"
    }
   ],
   "source": [
    "# Select an action\n",
    "action = 0\n",
    "\n",
    "# Run a single time step of the environment's dynamics with the given action.\n",
    "next_state, reward, done, _ = env.step(action)\n",
    "\n",
    "# Display table with values.\n",
    "utils.display_table(current_state, action, next_state, reward, done)\n",
    "\n",
    "# Replace the `current_state` with the state after the action is taken\n",
    "current_state = next_state"
   ]
  },
  {
   "cell_type": "markdown",
   "metadata": {},
   "source": [
    "In practice, when we train the agent we use a loop to allow the agent to take many consecutive actions during an episode."
   ]
  },
  {
   "cell_type": "markdown",
   "metadata": {},
   "source": [
    "<a name=\"6\"></a>\n",
    "## 6 - Deep Q-Learning\n",
    "\n",
    "In cases where both the state and action space are discrete we can estimate the action-value function iteratively by using the Bellman equation:\n",
    "\n",
    "$$\n",
    "Q_{i+1}(s,a) = R + \\gamma \\max_{a'}Q_i(s',a')\n",
    "$$\n",
    "\n",
    "This iterative method converges to the optimal action-value function $Q^*(s,a)$ as $i\\to\\infty$. This means that the agent just needs to gradually explore the state-action space and keep updating the estimate of $Q(s,a)$ until it converges to the optimal action-value function $Q^*(s,a)$. However, in cases where the state space is continuous it becomes practically impossible to explore the entire state-action space. Consequently, this also makes it practically impossible to gradually estimate $Q(s,a)$ until it converges to $Q^*(s,a)$.\n",
    "\n",
    "In the Deep $Q$-Learning, we solve this problem by using a neural network to estimate the action-value function $Q(s,a)\\approx Q^*(s,a)$. We call this neural network a $Q$-Network and it can be trained by adjusting its weights at each iteration to minimize the mean-squared error in the Bellman equation.\n",
    "\n",
    "Unfortunately, using neural networks in reinforcement learning to estimate action-value functions has proven to be highly unstable. Luckily, there's a couple of techniques that can be employed to avoid instabilities. These techniques consist of using a ***Target Network*** and ***Experience Replay***. We will explore these two techniques in the following sections."
   ]
  },
  {
   "cell_type": "markdown",
   "metadata": {},
   "source": [
    "<a name=\"6.1\"></a>\n",
    "### 6.1 Target Network\n",
    "\n",
    "We can train the $Q$-Network by adjusting it's weights at each iteration to minimize the mean-squared error in the Bellman equation, where the target values are given by:\n",
    "\n",
    "$$\n",
    "y = R + \\gamma \\max_{a'}Q(s',a';w)\n",
    "$$\n",
    "\n",
    "where $w$ are the weights of the $Q$-Network. This means that we are adjusting the weights $w$ at each iteration to minimize the following error:\n",
    "\n",
    "$$\n",
    "\\overbrace{\\underbrace{R + \\gamma \\max_{a'}Q(s',a'; w)}_{\\rm {y~target}} - Q(s,a;w)}^{\\rm {Error}}\n",
    "$$\n",
    "\n",
    "Notice that this forms a problem because the $y$ target is changing on every iteration. Having a constantly moving target can lead to oscillations and instabilities. To avoid this, we can create\n",
    "a separate neural network for generating the $y$ targets. We call this separate neural network the **target $\\hat Q$-Network** and it will have the same architecture as the original $Q$-Network. By using the target $\\hat Q$-Network, the above error becomes:\n",
    "\n",
    "$$\n",
    "\\overbrace{\\underbrace{R + \\gamma \\max_{a'}\\hat{Q}(s',a'; w^-)}_{\\rm {y~target}} - Q(s,a;w)}^{\\rm {Error}}\n",
    "$$\n",
    "\n",
    "where $w^-$ and $w$ are the weights of the target $\\hat Q$-Network and $Q$-Network, respectively.\n",
    "\n",
    "In practice, we will use the following algorithm: every $C$ time steps we will use the $\\hat Q$-Network to generate the $y$ targets and update the weights of the target $\\hat Q$-Network using the weights of the $Q$-Network. We will update the weights $w^-$ of the the target $\\hat Q$-Network using a **soft update**. This means that we will update the weights $w^-$ using the following rule:\n",
    " \n",
    "$$\n",
    "w^-\\leftarrow \\tau w + (1 - \\tau) w^-\n",
    "$$\n",
    "\n",
    "where $\\tau\\ll 1$. By using the soft update, we are ensuring that the target values, $y$, change slowly, which greatly improves the stability of our learning algorithm."
   ]
  },
  {
   "cell_type": "markdown",
   "metadata": {},
   "source": [
    "<a name=\"ex01\"></a>\n",
    "### Exercise 1\n",
    "\n",
    "In this exercise you will create the $Q$ and target $\\hat Q$ networks and set the optimizer. Remember that the Deep $Q$-Network (DQN) is a neural network that approximates the action-value function $Q(s,a)\\approx Q^*(s,a)$. It does this by learning how to map states to $Q$ values.\n",
    "\n",
    "To solve the Lunar Lander environment, we are going to employ a DQN with the following architecture:\n",
    "\n",
    "* An `Input` layer that takes `state_size` as input.\n",
    "\n",
    "* A `Dense` layer with `64` units and a `relu` activation function.\n",
    "\n",
    "* A `Dense` layer with `64` units and a `relu` activation function.\n",
    "\n",
    "* A `Dense` layer with `num_actions` units and a `linear` activation function. This will be the output layer of our network.\n",
    "\n",
    "\n",
    "In the cell below you should create the $Q$-Network and the target $\\hat Q$-Network using the model architecture described above. Remember that both the $Q$-Network and the target $\\hat Q$-Network have the same architecture.\n",
    "\n",
    "Lastly, you should set `Adam` as the optimizer with a learning rate equal to `ALPHA`. Recall that `ALPHA` was defined in the [Hyperparameters](#2) section. We should note that for this exercise you should use the already imported packages:\n",
    "```python\n",
    "from tensorflow.keras.layers import Dense, Input\n",
    "from tensorflow.keras.optimizers import Adam\n",
    "```"
   ]
  },
  {
   "cell_type": "code",
   "execution_count": 13,
   "metadata": {
    "deletable": false
   },
   "outputs": [],
   "source": [
    "# UNQ_C1\n",
    "# GRADED CELL\n",
    "\n",
    "# Create the Q-Network\n",
    "q_network = Sequential([\n",
    "    ### START CODE HERE ### \n",
    "    Input(shape=state_size),                      \n",
    "    Dense(units=64, activation='relu'),            \n",
    "    Dense(units=64, activation='relu'),            \n",
    "    Dense(units=num_actions, activation='linear'),\n",
    "    \n",
    "    \n",
    "    \n",
    "    ### END CODE HERE ### \n",
    "    ])\n",
    "\n",
    "# Create the target Q^-Network\n",
    "target_q_network = Sequential([\n",
    "    ### START CODE HERE ### \n",
    "    Input(shape=state_size),                      \n",
    "    Dense(units=64, activation='relu'),            \n",
    "    Dense(units=64, activation='relu'),            \n",
    "    Dense(units=num_actions, activation='linear'),\n",
    "    \n",
    "    \n",
    "    \n",
    "    ### END CODE HERE ###\n",
    "    ])\n",
    "\n",
    "### START CODE HERE ### \n",
    "optimizer = Adam(learning_rate=ALPHA)\n",
    "### END CODE HERE ###"
   ]
  },
  {
   "cell_type": "code",
   "execution_count": 14,
   "metadata": {
    "deletable": false,
    "editable": false
   },
   "outputs": [
    {
     "name": "stdout",
     "output_type": "stream",
     "text": [
      "\u001b[92mAll tests passed!\n",
      "\u001b[92mAll tests passed!\n",
      "\u001b[92mAll tests passed!\n"
     ]
    }
   ],
   "source": [
    "# UNIT TEST\n",
    "from public_tests import *\n",
    "\n",
    "test_network(q_network)\n",
    "test_network(target_q_network)\n",
    "test_optimizer(optimizer, ALPHA) "
   ]
  },
  {
   "cell_type": "markdown",
   "metadata": {},
   "source": [
    "<details>\n",
    "  <summary><font size=\"3\" color=\"darkgreen\"><b>Click for hints</b></font></summary>\n",
    "    \n",
    "```python\n",
    "# Create the Q-Network\n",
    "q_network = Sequential([\n",
    "    Input(shape=state_size),                      \n",
    "    Dense(units=64, activation='relu'),            \n",
    "    Dense(units=64, activation='relu'),            \n",
    "    Dense(units=num_actions, activation='linear'),\n",
    "    ])\n",
    "\n",
    "# Create the target Q^-Network\n",
    "target_q_network = Sequential([\n",
    "    Input(shape=state_size),                       \n",
    "    Dense(units=64, activation='relu'),            \n",
    "    Dense(units=64, activation='relu'),            \n",
    "    Dense(units=num_actions, activation='linear'), \n",
    "    ])\n",
    "\n",
    "optimizer = Adam(learning_rate=ALPHA)                                  \n",
    "``` "
   ]
  },
  {
   "cell_type": "markdown",
   "metadata": {},
   "source": [
    "<a name=\"6.2\"></a>\n",
    "### 6.2 Experience Replay\n",
    "\n",
    "When an agent interacts with the environment, the states, actions, and rewards the agent experiences are sequential by nature. If the agent tries to learn from these consecutive experiences it can run into problems due to the strong correlations between them. To avoid this, we employ a technique known as **Experience Replay** to generate uncorrelated experiences for training our agent. Experience replay consists of storing the agent's experiences (i.e the states, actions, and rewards the agent receives) in a memory buffer and then sampling a random mini-batch of experiences from the buffer to do the learning. The experience tuples $(S_t, A_t, R_t, S_{t+1})$ will be added to the memory buffer at each time step as the agent interacts with the environment.\n",
    "\n",
    "For convenience, we will store the experiences as named tuples."
   ]
  },
  {
   "cell_type": "code",
   "execution_count": 15,
   "metadata": {
    "deletable": false,
    "editable": false
   },
   "outputs": [],
   "source": [
    "# Store experiences as named tuples\n",
    "experience = namedtuple(\"Experience\", field_names=[\"state\", \"action\", \"reward\", \"next_state\", \"done\"])"
   ]
  },
  {
   "cell_type": "markdown",
   "metadata": {},
   "source": [
    "By using experience replay we avoid problematic correlations, oscillations and instabilities. In addition, experience replay also allows the agent to potentially use the same experience in multiple weight updates, which increases data efficiency."
   ]
  },
  {
   "cell_type": "markdown",
   "metadata": {},
   "source": [
    "<a name=\"7\"></a>\n",
    "## 7 - Deep Q-Learning Algorithm with Experience Replay\n",
    "\n",
    "Now that we know all the techniques that we are going to use, we can put them together to arrive at the Deep Q-Learning Algorithm With Experience Replay.\n",
    "<br>\n",
    "<br>\n",
    "<figure>\n",
    "  <img src = \"images/deep_q_algorithm.png\" width = 90% style = \"border: thin silver solid; padding: 0px\">\n",
    "      <figcaption style = \"text-align: center; font-style: italic\">Fig 3. Deep Q-Learning with Experience Replay.</figcaption>\n",
    "</figure>"
   ]
  },
  {
   "cell_type": "markdown",
   "metadata": {},
   "source": [
    "<a name=\"ex02\"></a>\n",
    "### Exercise 2\n",
    "\n",
    "In this exercise you will implement line ***12*** of the algorithm outlined in *Fig 3* above and you will also compute the loss between the $y$ targets and the $Q(s,a)$ values. In the cell below, complete the `compute_loss` function by setting the $y$ targets equal to:\n",
    "\n",
    "$$\n",
    "\\begin{equation}\n",
    "    y_j =\n",
    "    \\begin{cases}\n",
    "      R_j & \\text{if episode terminates at step  } j+1\\\\\n",
    "      R_j + \\gamma \\max_{a'}\\hat{Q}(s_{j+1},a') & \\text{otherwise}\\\\\n",
    "    \\end{cases}       \n",
    "\\end{equation}\n",
    "$$\n",
    "\n",
    "Here are a couple of things to note:\n",
    "\n",
    "* The `compute_loss` function takes in a mini-batch of experience tuples. This mini-batch of experience tuples is unpacked to extract the `states`, `actions`, `rewards`, `next_states`, and `done_vals`. You should keep in mind that these variables are *TensorFlow Tensors* whose size will depend on the mini-batch size. For example, if the mini-batch size is `64` then both `rewards` and `done_vals` will be TensorFlow Tensors with `64` elements.\n",
    "\n",
    "\n",
    "* Using `if/else` statements to set the $y$ targets will not work when the variables are tensors with many elements. However, notice that you can use the `done_vals` to implement the above in a single line of code. To do this, recall that the `done` variable is a Boolean variable that takes the value `True` when an episode terminates at step $j+1$ and it is `False` otherwise. Taking into account that a Boolean value of `True` has the numerical value of `1` and a Boolean value of `False` has the numerical value of `0`, you can use the factor `(1 - done_vals)` to implement the above in a single line of code. Here's a hint: notice that `(1 - done_vals)` has a value of `0` when `done_vals` is `True` and a value of `1` when `done_vals` is `False`. \n",
    "\n",
    "Lastly, compute the loss by calculating the Mean-Squared Error (`MSE`) between the `y_targets` and the `q_values`. To calculate the mean-squared error you should use the already imported package `MSE`:\n",
    "```python\n",
    "from tensorflow.keras.losses import MSE\n",
    "```"
   ]
  },
  {
   "cell_type": "code",
   "execution_count": 16,
   "metadata": {
    "deletable": false
   },
   "outputs": [],
   "source": [
    "# UNQ_C2\n",
    "# GRADED FUNCTION: calculate_loss\n",
    "\n",
    "def compute_loss(experiences, gamma, q_network, target_q_network):\n",
    "    \"\"\" \n",
    "    Calculates the loss.\n",
    "    \n",
    "    Args:\n",
    "      experiences: (tuple) tuple of [\"state\", \"action\", \"reward\", \"next_state\", \"done\"] namedtuples\n",
    "      gamma: (float) The discount factor.\n",
    "      q_network: (tf.keras.Sequential) Keras model for predicting the q_values\n",
    "      target_q_network: (tf.keras.Sequential) Keras model for predicting the targets\n",
    "          \n",
    "    Returns:\n",
    "      loss: (TensorFlow Tensor(shape=(0,), dtype=int32)) the Mean-Squared Error between\n",
    "            the y targets and the Q(s,a) values.\n",
    "    \"\"\"\n",
    "\n",
    "    # Unpack the mini-batch of experience tuples\n",
    "    states, actions, rewards, next_states, done_vals = experiences\n",
    "    \n",
    "    # Compute max Q^(s,a)\n",
    "    max_qsa = tf.reduce_max(target_q_network(next_states), axis=-1)\n",
    "    \n",
    "    # Set y = R if episode terminates, otherwise set y = R + γ max Q^(s,a).\n",
    "    ### START CODE HERE ### \n",
    "    y_targets = rewards + (gamma * max_qsa * (1 - done_vals))\n",
    "    ### END CODE HERE ###\n",
    "    \n",
    "    # Get the q_values and reshape to match y_targets\n",
    "    q_values = q_network(states)\n",
    "    q_values = tf.gather_nd(q_values, tf.stack([tf.range(q_values.shape[0]),\n",
    "                                                tf.cast(actions, tf.int32)], axis=1))\n",
    "        \n",
    "    # Compute the loss\n",
    "    ### START CODE HERE ### \n",
    "    loss = MSE(y_targets, q_values)\n",
    "    ### END CODE HERE ### \n",
    "    \n",
    "    return loss"
   ]
  },
  {
   "cell_type": "code",
   "execution_count": 17,
   "metadata": {
    "deletable": false,
    "editable": false
   },
   "outputs": [
    {
     "name": "stdout",
     "output_type": "stream",
     "text": [
      "\u001b[92mAll tests passed!\n"
     ]
    }
   ],
   "source": [
    "# UNIT TEST    \n",
    "test_compute_loss(compute_loss)"
   ]
  },
  {
   "cell_type": "markdown",
   "metadata": {},
   "source": [
    "<details>\n",
    "  <summary><font size=\"3\" color=\"darkgreen\"><b>Click for hints</b></font></summary>\n",
    "    \n",
    "```python\n",
    "def compute_loss(experiences, gamma, q_network, target_q_network):\n",
    "    \"\"\" \n",
    "    Calculates the loss.\n",
    "    \n",
    "    Args:\n",
    "      experiences: (tuple) tuple of [\"state\", \"action\", \"reward\", \"next_state\", \"done\"] namedtuples\n",
    "      gamma: (float) The discount factor.\n",
    "      q_network: (tf.keras.Sequential) Keras model for predicting the q_values\n",
    "      target_q_network: (tf.keras.Sequential) Keras model for predicting the targets\n",
    "          \n",
    "    Returns:\n",
    "      loss: (TensorFlow Tensor(shape=(0,), dtype=int32)) the Mean-Squared Error between\n",
    "            the y targets and the Q(s,a) values.\n",
    "    \"\"\"\n",
    "\n",
    "    \n",
    "    # Unpack the mini-batch of experience tuples\n",
    "    states, actions, rewards, next_states, done_vals = experiences\n",
    "    \n",
    "    # Compute max Q^(s,a)\n",
    "    max_qsa = tf.reduce_max(target_q_network(next_states), axis=-1)\n",
    "    \n",
    "    # Set y = R if episode terminates, otherwise set y = R + γ max Q^(s,a).\n",
    "    y_targets = rewards + (gamma * max_qsa * (1 - done_vals))\n",
    "    \n",
    "    # Get the q_values\n",
    "    q_values = q_network(states)\n",
    "    q_values = tf.gather_nd(q_values, tf.stack([tf.range(q_values.shape[0]),\n",
    "                                                tf.cast(actions, tf.int32)], axis=1))\n",
    "    \n",
    "    # Calculate the loss\n",
    "    loss = MSE(y_targets, q_values)\n",
    "    \n",
    "    return loss\n",
    "\n",
    "``` \n",
    "    "
   ]
  },
  {
   "cell_type": "markdown",
   "metadata": {},
   "source": [
    "<a name=\"8\"></a>\n",
    "## 8 - Update the Network Weights\n",
    "\n",
    "We will use the `agent_learn` function below to implement lines ***12 -14*** of the algorithm outlined in [Fig 3](#7). The `agent_learn` function will update the weights of the $Q$ and target $\\hat Q$ networks using a custom training loop. Because we are using a custom training loop we need to retrieve the gradients via a `tf.GradientTape` instance, and then call `optimizer.apply_gradients()` to update the weights of our $Q$-Network. Note that we are also using the `@tf.function` decorator to increase performance. Without this decorator our training will take twice as long. If you would like to know more about how to increase performance with `@tf.function` take a look at the [TensorFlow documentation](https://www.tensorflow.org/guide/function).\n",
    "\n",
    "The last line of this function updates the weights of the target $\\hat Q$-Network using a [soft update](#6.1). If you want to know how this is implemented in code we encourage you to take a look at the `utils.update_target_network` function in the `utils` module."
   ]
  },
  {
   "cell_type": "code",
   "execution_count": 18,
   "metadata": {
    "deletable": false,
    "editable": false
   },
   "outputs": [],
   "source": [
    "@tf.function\n",
    "def agent_learn(experiences, gamma):\n",
    "    \"\"\"\n",
    "    Updates the weights of the Q networks.\n",
    "    \n",
    "    Args:\n",
    "      experiences: (tuple) tuple of [\"state\", \"action\", \"reward\", \"next_state\", \"done\"] namedtuples\n",
    "      gamma: (float) The discount factor.\n",
    "    \n",
    "    \"\"\"\n",
    "    \n",
    "    # Calculate the loss\n",
    "    with tf.GradientTape() as tape:\n",
    "        loss = compute_loss(experiences, gamma, q_network, target_q_network)\n",
    "\n",
    "    # Get the gradients of the loss with respect to the weights.\n",
    "    gradients = tape.gradient(loss, q_network.trainable_variables)\n",
    "    \n",
    "    # Update the weights of the q_network.\n",
    "    optimizer.apply_gradients(zip(gradients, q_network.trainable_variables))\n",
    "\n",
    "    # update the weights of target q_network\n",
    "    utils.update_target_network(q_network, target_q_network)"
   ]
  },
  {
   "cell_type": "markdown",
   "metadata": {},
   "source": [
    "<a name=\"9\"></a>\n",
    "## 9 - Train the Agent\n",
    "\n",
    "We are now ready to train our agent to solve the Lunar Lander environment. In the cell below we will implement the algorithm in [Fig 3](#7) line by line (please note that we have included the same algorithm below for easy reference. This will prevent you from scrolling up and down the notebook):\n",
    "\n",
    "* **Line 1**: We initialize the `memory_buffer` with a capacity of $N =$ `MEMORY_SIZE`. Notice that we are using a `deque` as the data structure for our `memory_buffer`.\n",
    "\n",
    "\n",
    "* **Line 2**: We skip this line since we already initialized the `q_network` in [Exercise 1](#ex01).\n",
    "\n",
    "\n",
    "* **Line 3**: We initialize the `target_q_network` by setting its weights to be equal to those of the `q_network`.\n",
    "\n",
    "\n",
    "* **Line 4**: We start the outer loop. Notice that we have set $M =$ `num_episodes = 2000`. This number is reasonable because the agent should be able to solve the Lunar Lander environment in less than `2000` episodes using this notebook's default parameters.\n",
    "\n",
    "\n",
    "* **Line 5**: We use the `.reset()` method to reset the environment to the initial state and get the initial state.\n",
    "\n",
    "\n",
    "* **Line 6**: We start the inner loop. Notice that we have set $T =$ `max_num_timesteps = 1000`. This means that the episode will automatically terminate if the episode hasn't terminated after `1000` time steps.\n",
    "\n",
    "\n",
    "* **Line 7**: The agent observes the current `state` and chooses an `action` using an $\\epsilon$-greedy policy. Our agent starts out using a value of $\\epsilon =$ `epsilon = 1` which yields an $\\epsilon$-greedy policy that is equivalent to the equiprobable random policy. This means that at the beginning of our training, the agent is just going to take random actions regardless of the observed `state`. As training progresses we will decrease the value of $\\epsilon$ slowly towards a minimum value using a given $\\epsilon$-decay rate. We want this minimum value to be close to zero because a value of $\\epsilon = 0$ will yield an $\\epsilon$-greedy policy that is equivalent to the greedy policy. This means that towards the end of training, the agent will lean towards selecting the `action` that it believes (based on its past experiences) will maximize $Q(s,a)$. We will set the minimum $\\epsilon$ value to be `0.01` and not exactly 0 because we always want to keep a little bit of exploration during training. If you want to know how this is implemented in code we encourage you to take a look at the `utils.get_action` function in the `utils` module.\n",
    "\n",
    "\n",
    "* **Line 8**: We use the `.step()` method to take the given `action` in the environment and get the `reward` and the `next_state`. \n",
    "\n",
    "\n",
    "* **Line 9**: We store the `experience(state, action, reward, next_state, done)` tuple in our `memory_buffer`. Notice that we also store the `done` variable so that we can keep track of when an episode terminates. This allowed us to set the $y$ targets in [Exercise 2](#ex02).\n",
    "\n",
    "\n",
    "* **Line 10**: We check if the conditions are met to perform a learning update. We do this by using our custom `utils.check_update_conditions` function. This function checks if $C =$ `NUM_STEPS_FOR_UPDATE = 4` time steps have occured and if our `memory_buffer` has enough experience tuples to fill a mini-batch. For example, if the mini-batch size is `64`, then our `memory_buffer` should have more than `64` experience tuples in order to pass the latter condition. If the conditions are met, then the `utils.check_update_conditions` function will return a value of `True`, otherwise it will return a value of `False`.\n",
    "\n",
    "\n",
    "* **Lines 11 - 14**: If the `update` variable is `True` then we perform a learning update. The learning update consists of sampling a random mini-batch of experience tuples from our `memory_buffer`, setting the $y$ targets, performing gradient descent, and updating the weights of the networks. We will use the `agent_learn` function we defined in [Section 8](#8) to perform the latter 3.\n",
    "\n",
    "\n",
    "* **Line 15**: At the end of each iteration of the inner loop we set `next_state` as our new `state` so that the loop can start again from this new state. In addition, we check if the episode has reached a terminal state (i.e we check if `done = True`). If a terminal state has been reached, then we break out of the inner loop.\n",
    "\n",
    "\n",
    "* **Line 16**: At the end of each iteration of the outer loop we update the value of $\\epsilon$, and check if the environment has been solved. We consider that the environment has been solved if the agent receives an average of `200` points in the last `100` episodes. If the environment has not been solved we continue the outer loop and start a new episode.\n",
    "\n",
    "Finally, we wanted to note that we have included some extra variables to keep track of the total number of points the agent received in each episode. This will help us determine if the agent has solved the environment and it will also allow us to see how our agent performed during training. We also use the `time` module to measure how long the training takes. \n",
    "\n",
    "<br>\n",
    "<br>\n",
    "<figure>\n",
    "  <img src = \"images/deep_q_algorithm.png\" width = 90% style = \"border: thin silver solid; padding: 0px\">\n",
    "      <figcaption style = \"text-align: center; font-style: italic\">Fig 4. Deep Q-Learning with Experience Replay.</figcaption>\n",
    "</figure>\n",
    "<br>\n",
    "\n",
    "**Note:** With this notebook's default parameters, the following cell takes between 10 to 15 minutes to run. "
   ]
  },
  {
   "cell_type": "code",
   "execution_count": 19,
   "metadata": {
    "deletable": false,
    "editable": false
   },
   "outputs": [
    {
     "name": "stdout",
     "output_type": "stream",
     "text": [
      "Episode 100 | Total point average of the last 100 episodes: -140.48\n",
      "Episode 200 | Total point average of the last 100 episodes: -77.533\n",
      "Episode 300 | Total point average of the last 100 episodes: -30.87\n",
      "Episode 400 | Total point average of the last 100 episodes: 34.472\n",
      "Episode 500 | Total point average of the last 100 episodes: 173.10\n",
      "Episode 524 | Total point average of the last 100 episodes: 201.81\n",
      "\n",
      "Environment solved in 524 episodes!\n",
      "\n",
      "Total Runtime: 690.48 s (11.51 min)\n"
     ]
    }
   ],
   "source": [
    "start = time.time()\n",
    "\n",
    "num_episodes = 2000\n",
    "max_num_timesteps = 1000\n",
    "\n",
    "total_point_history = []\n",
    "\n",
    "num_p_av = 100    # number of total points to use for averaging\n",
    "epsilon = 1.0     # initial ε value for ε-greedy policy\n",
    "\n",
    "# Create a memory buffer D with capacity N\n",
    "memory_buffer = deque(maxlen=MEMORY_SIZE)\n",
    "\n",
    "# Set the target network weights equal to the Q-Network weights\n",
    "target_q_network.set_weights(q_network.get_weights())\n",
    "\n",
    "for i in range(num_episodes):\n",
    "    \n",
    "    # Reset the environment to the initial state and get the initial state\n",
    "    state = env.reset()\n",
    "    total_points = 0\n",
    "    \n",
    "    for t in range(max_num_timesteps):\n",
    "        \n",
    "        # From the current state S choose an action A using an ε-greedy policy\n",
    "        state_qn = np.expand_dims(state, axis=0)  # state needs to be the right shape for the q_network\n",
    "        q_values = q_network(state_qn)\n",
    "        action = utils.get_action(q_values, epsilon)\n",
    "        \n",
    "        # Take action A and receive reward R and the next state S'\n",
    "        next_state, reward, done, _ = env.step(action)\n",
    "        \n",
    "        # Store experience tuple (S,A,R,S') in the memory buffer.\n",
    "        # We store the done variable as well for convenience.\n",
    "        memory_buffer.append(experience(state, action, reward, next_state, done))\n",
    "        \n",
    "        # Only update the network every NUM_STEPS_FOR_UPDATE time steps.\n",
    "        update = utils.check_update_conditions(t, NUM_STEPS_FOR_UPDATE, memory_buffer)\n",
    "        \n",
    "        if update:\n",
    "            # Sample random mini-batch of experience tuples (S,A,R,S') from D\n",
    "            experiences = utils.get_experiences(memory_buffer)\n",
    "            \n",
    "            # Set the y targets, perform a gradient descent step,\n",
    "            # and update the network weights.\n",
    "            agent_learn(experiences, GAMMA)\n",
    "        \n",
    "        state = next_state.copy()\n",
    "        total_points += reward\n",
    "        \n",
    "        if done:\n",
    "            break\n",
    "            \n",
    "    total_point_history.append(total_points)\n",
    "    av_latest_points = np.mean(total_point_history[-num_p_av:])\n",
    "    \n",
    "    # Update the ε value\n",
    "    epsilon = utils.get_new_eps(epsilon)\n",
    "\n",
    "    print(f\"\\rEpisode {i+1} | Total point average of the last {num_p_av} episodes: {av_latest_points:.2f}\", end=\"\")\n",
    "\n",
    "    if (i+1) % num_p_av == 0:\n",
    "        print(f\"\\rEpisode {i+1} | Total point average of the last {num_p_av} episodes: {av_latest_points:.2f}\")\n",
    "\n",
    "    # We will consider that the environment is solved if we get an\n",
    "    # average of 200 points in the last 100 episodes.\n",
    "    if av_latest_points >= 200.0:\n",
    "        print(f\"\\n\\nEnvironment solved in {i+1} episodes!\")\n",
    "        q_network.save('lunar_lander_model.h5')\n",
    "        break\n",
    "        \n",
    "tot_time = time.time() - start\n",
    "\n",
    "print(f\"\\nTotal Runtime: {tot_time:.2f} s ({(tot_time/60):.2f} min)\")"
   ]
  },
  {
   "cell_type": "markdown",
   "metadata": {},
   "source": [
    "We can plot the total point history along with the moving average to see how our agent improved during training. If you want to know about the different plotting options available in the `utils.plot_history` function we encourage you to take a look at the `utils` module."
   ]
  },
  {
   "cell_type": "code",
   "execution_count": 20,
   "metadata": {
    "deletable": false,
    "editable": false,
    "id": "E_EUXxurfe8m",
    "scrolled": false
   },
   "outputs": [
    {
     "data": {
      "image/png": "[encoded data removed]",
      "text/plain": [
       "<Figure size 720x504 with 1 Axes>"
      ]
     },
     "metadata": {},
     "output_type": "display_data"
    }
   ],
   "source": [
    "# Plot the total point history along with the moving average\n",
    "utils.plot_history(total_point_history)"
   ]
  },
  {
   "cell_type": "markdown",
   "metadata": {
    "id": "c_xwgaX5MnYt"
   },
   "source": [
    "<a name=\"10\"></a>\n",
    "## 10 - See the Trained Agent In Action\n",
    "\n",
    "Now that we have trained our agent, we can see it in action. We will use the `utils.create_video` function to create a video of our agent interacting with the environment using the trained $Q$-Network. The `utils.create_video` function uses the `imageio` library to create the video. This library produces some warnings that can be distracting, so, to suppress these warnings we run the code below."
   ]
  },
  {
   "cell_type": "code",
   "execution_count": 21,
   "metadata": {
    "deletable": false,
    "editable": false
   },
   "outputs": [],
   "source": [
    "# Suppress warnings from imageio\n",
    "import logging\n",
    "logging.getLogger().setLevel(logging.ERROR)"
   ]
  },
  {
   "cell_type": "markdown",
   "metadata": {},
   "source": [
    "In the cell below we create a video of our agent interacting with the Lunar Lander environment using the trained `q_network`. The video is saved to the `videos` folder with the given `filename`. We use the `utils.embed_mp4` function to embed the video in the Jupyter Notebook so that we can see it here directly without having to download it.\n",
    "\n",
    "We should note that since the lunar lander starts with a random initial force applied to its center of mass, every time you run the cell below you will see a different video. If the agent was trained properly, it should be able to land the lunar lander in the landing pad every time, regardless of the initial force applied to its center of mass."
   ]
  },
  {
   "cell_type": "code",
   "execution_count": 22,
   "metadata": {
    "deletable": false,
    "editable": false,
    "id": "3Ttb_zLeJKiG"
   },
   "outputs": [
    {
     "data": {
      "text/html": [
       "\n",
       "    <video width=\"840\" height=\"480\" controls>\n",
       "    <source src=\"data:video/mp4;base64,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\" type=\"video/mp4\">\n",
       "    Your browser does not support the video tag.\n",
       "    </video>"
      ],
      "text/plain": [
       "<IPython.core.display.HTML object>"
      ]
     },
     "execution_count": 22,
     "metadata": {},
     "output_type": "execute_result"
    }
   ],
   "source": [
    "filename = \"./videos/lunar_lander.mp4\"\n",
    "\n",
    "utils.create_video(filename, env, q_network)\n",
    "utils.embed_mp4(filename)"
   ]
  },
  {
   "cell_type": "markdown",
   "metadata": {},
   "source": [
    "<a name=\"11\"></a>\n",
    "## 11 - Congratulations!\n",
    "\n",
    "You have successfully used Deep Q-Learning with Experience Replay to train an agent to land a lunar lander safely on a landing pad on the surface of the moon. Congratulations!"
   ]
  },
  {
   "cell_type": "markdown",
   "metadata": {},
   "source": [
    "<a name=\"12\"></a>\n",
    "## 12 - References\n",
    "\n",
    "If you would like to learn more about Deep Q-Learning, we recommend you check out the following papers.\n",
    "\n",
    "\n",
    "* Mnih, V., Kavukcuoglu, K., Silver, D. et al. Human-level control through deep reinforcement learning. Nature 518, 529–533 (2015).\n",
    "\n",
    "\n",
    "* Lillicrap, T. P., Hunt, J. J., Pritzel, A., et al. Continuous Control with Deep Reinforcement Learning. ICLR (2016).\n",
    "\n",
    "\n",
    "* Mnih, V., Kavukcuoglu, K., Silver, D. et al. Playing Atari with Deep Reinforcement Learning. arXiv e-prints.  arXiv:1312.5602 (2013)."
   ]
  },
  {
   "cell_type": "markdown",
   "metadata": {},
   "source": [
    "<details>\n",
    "  <summary><font size=\"2\" color=\"darkgreen\"><b>Please click here if you want to experiment with any of the non-graded code.</b></font></summary>\n",
    "    <p><i><b>Important Note: Please only do this when you've already passed the assignment to avoid problems with the autograder.</b></i>\n",
    "    <ol>\n",
    "        <li> On the notebook’s menu, click “View” > “Cell Toolbar” > “Edit Metadata”</li>\n",
    "        <li> Hit the “Edit Metadata” button next to the code cell which you want to lock/unlock</li>\n",
    "        <li> Set the attribute value for “editable” to:\n",
    "            <ul>\n",
    "                <li> “true” if you want to unlock it </li>\n",
    "                <li> “false” if you want to lock it </li>\n",
    "            </ul>\n",
    "        </li>\n",
    "        <li> On the notebook’s menu, click “View” > “Cell Toolbar” > “None” </li>\n",
    "    </ol>\n",
    "    <p> Here's a short demo of how to do the steps above: \n",
    "        <br>\n",
    "        <img src=\"https://lh3.google.com/u/0/d/14Xy_Mb17CZVgzVAgq7NCjMVBvSae3xO1\" align=\"center\" alt=\"unlock_cells.gif\">\n",
    "</details>"
   ]
  }
 ],
 "metadata": {
  "accelerator": "GPU",
  "colab": {
   "collapsed_sections": [],
   "name": "TensorFlow - Lunar Lander.ipynb",
   "provenance": []
  },
  "kernelspec": {
   "display_name": "Python 3",
   "language": "python",
   "name": "python3"
  },
  "language_info": {
   "codemirror_mode": {
    "name": "ipython",
    "version": 3
   },
   "file_extension": ".py",
   "mimetype": "text/x-python",
   "name": "python",
   "nbconvert_exporter": "python",
   "pygments_lexer": "ipython3",
   "version": "3.7.6"
  }
 },
 "nbformat": 4,
 "nbformat_minor": 1
}
