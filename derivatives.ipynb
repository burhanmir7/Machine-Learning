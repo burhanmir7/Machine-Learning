{
  "nbformat": 4,
  "nbformat_minor": 0,
  "metadata": {
    "colab": {
      "provenance": []
    },
    "kernelspec": {
      "name": "python3",
      "display_name": "Python 3"
    },
    "language_info": {
      "name": "python"
    }
  },
  "cells": [
    {
      "cell_type": "code",
      "execution_count": 1,
      "metadata": {
        "id": "89hPDjBTv9UB"
      },
      "outputs": [],
      "source": [
        "import sympy"
      ]
    },
    {
      "cell_type": "code",
      "source": [
        "J, w = sympy.symbols('J,w')"
      ],
      "metadata": {
        "id": "1x_UouUowDJO"
      },
      "execution_count": 2,
      "outputs": []
    },
    {
      "cell_type": "code",
      "source": [
        "J = 1/w #J = w**3  #J = w      #J=w**2\n",
        "J"
      ],
      "metadata": {
        "colab": {
          "base_uri": "https://localhost:8080/",
          "height": 39
        },
        "id": "AhTa8-HIwOI4",
        "outputId": "8b770548-5326-49f3-cade-ea5a0e3ee3b4"
      },
      "execution_count": 10,
      "outputs": [
        {
          "output_type": "execute_result",
          "data": {
            "text/plain": [
              "w**3"
            ],
            "text/latex": "$\\displaystyle w^{3}$"
          },
          "metadata": {},
          "execution_count": 10
        }
      ]
    },
    {
      "cell_type": "code",
      "source": [
        "dJ_dw = sympy.diff(J,w)\n",
        "dJ_dw"
      ],
      "metadata": {
        "colab": {
          "base_uri": "https://localhost:8080/",
          "height": 39
        },
        "id": "iRGZddQGwW0o",
        "outputId": "2594e528-ca50-4f9d-8641-85a53912abf8"
      },
      "execution_count": 11,
      "outputs": [
        {
          "output_type": "execute_result",
          "data": {
            "text/plain": [
              "3*w**2"
            ],
            "text/latex": "$\\displaystyle 3 w^{2}$"
          },
          "metadata": {},
          "execution_count": 11
        }
      ]
    },
    {
      "cell_type": "code",
      "source": [
        "dJ_dw.subs([(w,3)])"
      ],
      "metadata": {
        "colab": {
          "base_uri": "https://localhost:8080/",
          "height": 37
        },
        "id": "d8WHZvjcwlN_",
        "outputId": "69f33ecb-6b30-4980-8beb-f6987165f7cd"
      },
      "execution_count": 12,
      "outputs": [
        {
          "output_type": "execute_result",
          "data": {
            "text/plain": [
              "27"
            ],
            "text/latex": "$\\displaystyle 27$"
          },
          "metadata": {},
          "execution_count": 12
        }
      ]
    }
  ]
}